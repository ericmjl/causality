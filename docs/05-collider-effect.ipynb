{
 "cells": [
  {
   "cell_type": "markdown",
   "metadata": {},
   "source": [
    "# Introduction\n",
    "\n",
    "In this notebook, we will take a quick look at the \"collider\" effect.\n",
    "\n",
    "Let's say we have the following causal graph:\n",
    "\n",
    "$$a \\rightarrow b \\leftarrow c$$\n",
    "\n",
    "Apparently, if we \"condition\" on $b$, then $a$ and $c$ will be correlated, even though they are independent."
   ]
  },
  {
   "cell_type": "code",
   "execution_count": null,
   "metadata": {},
   "outputs": [],
   "source": [
    "import numpy as np\n",
    "from causality_notes import noise\n",
    "import pandas as pd\n",
    "import seaborn as sns\n",
    "\n",
    "%load_ext autoreload\n",
    "%autoreload 2\n",
    "%matplotlib inline\n",
    "%config InlineBackend.figure_format = 'retina'"
   ]
  },
  {
   "cell_type": "markdown",
   "metadata": {},
   "source": [
    "# Generate Data\n",
    "\n",
    "Let's assume we have a causal model that follows the equations below:\n",
    "\n",
    "$$a \\sim N(0, 1)$$\n",
    "$$c \\sim N(0, 1)$$\n",
    "$$b = 20a - 20c$$\n",
    "\n",
    "This is expressed in the code below."
   ]
  },
  {
   "cell_type": "code",
   "execution_count": null,
   "metadata": {},
   "outputs": [],
   "source": [
    "size = 1000\n",
    "a = noise(size)\n",
    "c = noise(size)\n",
    "b = 20*a - 20*c + noise(size)"
   ]
  },
  {
   "cell_type": "markdown",
   "metadata": {},
   "source": [
    "We now make it into a pandas DataFrame."
   ]
  },
  {
   "cell_type": "code",
   "execution_count": null,
   "metadata": {},
   "outputs": [],
   "source": [
    "df = pd.DataFrame({'a': a, 'b': b, 'c': c})"
   ]
  },
  {
   "cell_type": "markdown",
   "metadata": {},
   "source": [
    "Let's view a pair plot to see the pairwise correlation (dependency) between the variables."
   ]
  },
  {
   "cell_type": "code",
   "execution_count": null,
   "metadata": {},
   "outputs": [],
   "source": [
    "sns.pairplot(df)"
   ]
  },
  {
   "cell_type": "markdown",
   "metadata": {},
   "source": [
    "Ok, as shown in the causal graph, $a$ and $c$ are independent of one another, and so distributionally, there's no trend between them."
   ]
  },
  {
   "cell_type": "markdown",
   "metadata": {},
   "source": [
    "# Conditioning\n",
    "\n",
    "When we \"condition\" on a variable, remember that we are essentially taking a \"slice\" of a variable, and seeing what the distributions for the other variables are. I illustrated this on [my blog](https://ericmjl.github.io/blog/2018/8/7/joint-conditional-and-marginal-probability-distributions/).\n",
    "\n",
    "In our problem, this means that we have to slice out a range of the values of $b$:"
   ]
  },
  {
   "cell_type": "code",
   "execution_count": null,
   "metadata": {},
   "outputs": [],
   "source": [
    "df_new = df[(df['b'] < df['b'].mean()) & (df['b'] > np.percentile(df['b'], 25))]"
   ]
  },
  {
   "cell_type": "markdown",
   "metadata": {},
   "source": [
    "Now, let's visualize the relationship between $a$ and $c$, now conditioned on $b$."
   ]
  },
  {
   "cell_type": "code",
   "execution_count": null,
   "metadata": {},
   "outputs": [],
   "source": [
    "ax = df_new.plot(kind='scatter', x='a', y='c')\n",
    "ax.set_aspect('equal')\n",
    "ax.set_title('conditioned on b')"
   ]
  },
  {
   "cell_type": "markdown",
   "metadata": {},
   "source": [
    "We can also look at the full joint distribution of $a$ and $c$, colouring $b$ to illustrate what would happen if we conditioned on particular values of $b$."
   ]
  },
  {
   "cell_type": "code",
   "execution_count": null,
   "metadata": {},
   "outputs": [],
   "source": [
    "ax = sns.scatterplot(data=df, x='a', y='c', hue='b')\n",
    "ax.set_aspect('equal')"
   ]
  },
  {
   "cell_type": "markdown",
   "metadata": {},
   "source": [
    "# Conclusion\n",
    "\n",
    "Here, we see that in a collider situation, if we condition on the child variable, the parents will be unduly correlated."
   ]
  }
 ],
 "metadata": {
  "kernelspec": {
   "display_name": "Python 3",
   "language": "python",
   "name": "python3"
  },
  "language_info": {
   "codemirror_mode": {
    "name": "ipython",
    "version": 3
   },
   "file_extension": ".py",
   "mimetype": "text/x-python",
   "name": "python",
   "nbconvert_exporter": "python",
   "pygments_lexer": "ipython3",
   "version": "3.7.1"
  }
 },
 "nbformat": 4,
 "nbformat_minor": 2
}
