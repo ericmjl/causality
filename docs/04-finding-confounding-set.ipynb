{
 "cells": [
  {
   "cell_type": "markdown",
   "metadata": {},
   "source": [
    "# Introduction\n",
    "\n",
    "Following up on $d$-separation, my colleagues and I chatted about how to find the confounding set of variables in a causal graph. This is another graph search problem. Let's see how this can be applied."
   ]
  },
  {
   "cell_type": "code",
   "execution_count": null,
   "metadata": {},
   "outputs": [],
   "source": [
    "from causality_notes import rule1, rule2, rule3, path_nodes\n",
    "import networkx as nx\n",
    "import matplotlib.pyplot as plt\n",
    "\n",
    "%load_ext autoreload\n",
    "%autoreload 2\n",
    "%matplotlib inline\n",
    "%config InlineBackend.figure_format = 'retina'"
   ]
  },
  {
   "cell_type": "markdown",
   "metadata": {},
   "source": [
    "From Judea Pearl's book, there is a diagram in chapter 4, `Figure 4.7`. Let's reproduce it here."
   ]
  },
  {
   "cell_type": "code",
   "execution_count": null,
   "metadata": {},
   "outputs": [],
   "source": [
    "G = nx.DiGraph()\n",
    "edges = [\n",
    "    ('D', 'A'), ('D', 'C'), ('F', 'C'),\n",
    "    ('A', 'B'), ('C', 'B'), ('C', 'Y'),\n",
    "    ('F', 'X'), ('F', 'Y'), ('C', 'E'),\n",
    "    ('A', 'X'), ('E', 'X'), ('E', 'Y'),\n",
    "    ('B', 'X'), ('X', 'Y'), ('G', 'X'), \n",
    "    ('G', 'Y')\n",
    "]\n",
    "G.add_edges_from(edges)\n",
    "pos = {\n",
    "    'D': (0, 0),\n",
    "    'A': (1, 0.5),\n",
    "    'C': (1, -1),\n",
    "    'F': (1, -2),\n",
    "    'B': (2, -0.3),\n",
    "    'E': (2, 1),\n",
    "    'X': (4, 0.5),\n",
    "    'G': (4.5, -2),\n",
    "    'Y': (5, 0.5)\n",
    "}\n",
    "nx.draw(G, pos=pos, with_labels=True)"
   ]
  },
  {
   "cell_type": "markdown",
   "metadata": {},
   "source": [
    "To reveal the answer, the minimum confounding set is $\\{A, B, E, F, G\\}$."
   ]
  },
  {
   "cell_type": "markdown",
   "metadata": {},
   "source": [
    "What we would like to know is what is the set of confounders that we need to control for in order to correctly estimate the effect of $X$ on $Y$.\n",
    "\n",
    "To do this, we use the following logic:\n",
    "\n",
    "1. Find all undirected paths between $X$ and $Y$.\n",
    "1. Traverse each node in the undirected paths. \n",
    "1. Check to see if, in the directed graph, the node blocks the path between $X$ and $Y$ if it were in the conditioning set.\n",
    "    1. If yes, then it should be included as a confounder. Break out and continue on to next path.\n",
    "    1. If no, it should not be included as a confounder."
   ]
  },
  {
   "cell_type": "code",
   "execution_count": null,
   "metadata": {},
   "outputs": [],
   "source": [
    "Gpath = G.to_undirected()\n",
    "\n",
    "confounders = set()\n",
    "n1 = 'X'\n",
    "n2 = 'Y'\n",
    "for i, path in enumerate(nx.all_simple_paths(Gpath, n1, n2)):\n",
    "    for n in path:\n",
    "        if n is not n1 and n is not n2:\n",
    "            pass1 = rule1(n, [n], G, path)\n",
    "            pass2 = rule2(n, [n], G, path)\n",
    "            pass3 = rule3(n, [], G, path)\n",
    "            if pass1 or pass2 or pass3:\n",
    "                confounders.add(n)\n",
    "                # We break, because as soon as we find a good\n",
    "                # blocking node, there is no need to continue\n",
    "                # looking at other nodes.\n",
    "                break\n",
    "confounders"
   ]
  },
  {
   "cell_type": "markdown",
   "metadata": {},
   "source": [
    "We did it!"
   ]
  }
 ],
 "metadata": {
  "kernelspec": {
   "display_name": "causality",
   "language": "python",
   "name": "causality"
  },
  "language_info": {
   "codemirror_mode": {
    "name": "ipython",
    "version": 3
   },
   "file_extension": ".py",
   "mimetype": "text/x-python",
   "name": "python",
   "nbconvert_exporter": "python",
   "pygments_lexer": "ipython3",
   "version": "3.6.6"
  }
 },
 "nbformat": 4,
 "nbformat_minor": 2
}
