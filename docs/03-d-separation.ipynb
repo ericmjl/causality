{
 "cells": [
  {
   "cell_type": "markdown",
   "metadata": {},
   "source": [
    "# $d$-separation\n",
    "\n",
    "$d$-separation is a key concept in causal inference. \n",
    "\n",
    "*Why is $d$-separation important?* Looking at [this page](http://bayes.cs.ucla.edu/BOOK-2K/d-sep.html) (by Pearl himself):\n",
    "\n",
    "> $d$-separation is a criterion for deciding, from a given a causal graph, whether a set $X$ of variables is independent of another set $Y$, given a third set $S$. (I modified that last symbol for consistency here.)"
   ]
  },
  {
   "cell_type": "code",
   "execution_count": null,
   "metadata": {},
   "outputs": [],
   "source": [
    "%load_ext autoreload\n",
    "%autoreload 2\n",
    "%matplotlib inline\n",
    "%config InlineBackend.figure_format = 'retina'\n",
    "\n",
    "import networkx as nx\n",
    "from causality_notes import draw_graph"
   ]
  },
  {
   "cell_type": "markdown",
   "metadata": {},
   "source": [
    "To get into $d$-separation, we first have to understand **paths** and **blocked paths**.\n",
    "\n",
    "One thing that I didn't grok immediately when reading Judea Pearl's book on Causality was that the difference between a **path** and a **directed path**. For me, coming in with a fairly shallow network science background, I could not see how \"a path\" could be traced from $A$ to $D$ in the following graph:\n",
    "\n",
    "$$A \\rightarrow B \\leftarrow C \\rightarrow D$$\n",
    "\n",
    "By simply traversing the graph from A, we can only ever arrive at B... right?\n",
    "\n",
    "Yes, but only if we accept the traditional \"network science\" definitions of a path. In causal inference, a path is just any undirected connection between variables; a directed path, on the other hand, has to follow the directions on the edges. Therefore, we have to consider the \"undirected\" version of the graph:\n",
    "\n",
    "$$A - B - C - D$$\n",
    "\n",
    "Mechanically, what we are doing when we finding out whether two nodes $n_1$ and $n_2$ are $d$-separated or not is to first start with the undirected version of the causal graph, then find every single path between the two nodes in the undirected graph, then see if there are blockers to independence between $n_1$ and $n_2$ in the directed version of the graph (as determined by three rules, which I will go through below).\n",
    "\n",
    "This notebook is going to be structured as a hybrid between \"my notes from Jonas Peters' lecture series\" and \"an exercise in implementing algorithms\" related to $d$-separation and inferring causal structures from observational data (under certain assumptions)."
   ]
  },
  {
   "cell_type": "markdown",
   "metadata": {},
   "source": [
    "Let's say we have the following causal structure:"
   ]
  },
  {
   "cell_type": "code",
   "execution_count": null,
   "metadata": {},
   "outputs": [],
   "source": [
    "G = nx.DiGraph()\n",
    "G.add_edge('x2', 'x1')\n",
    "G.add_edge('x3', 'x1')\n",
    "G.add_edge('x4', 'x3')\n",
    "G.add_edge('x4', 'x5')\n",
    "G.add_edge('x1', 'x5')\n",
    "draw_graph(G)"
   ]
  },
  {
   "cell_type": "markdown",
   "metadata": {},
   "source": [
    "There are some definitions that we have to get clear with.\n",
    "\n",
    "- **Path:** Convert the graph to an undirected graph. Then ask if there is a connection between the two nodes or not.\n",
    "- **Directed Path:** Follow the arrows!\n",
    "- **V-structure:** An example in the above graph is $x_1$: it has two parents, $x_3$ and $x_2$ which are not connected by an arrow to each other."
   ]
  },
  {
   "cell_type": "markdown",
   "metadata": {},
   "source": [
    "From this, we then get to the definition of $d$-separation: Two nodes $x_i$ and $x_j$ are $d$-separated by the node set $S$ if all paths between $x_i$ and $x_j$ are blocked by the node set $S$.\n",
    "\n",
    "We also call node set $S$ the \"conditioning set\".\n",
    "\n",
    "There are three rules to determine this. For each node $n$ in $S$, we check whether it looks like the following:\n",
    "\n",
    "1. $\\rightarrow n \\rightarrow$, where $n$ is in the conditioning set $S$,\n",
    "1. $\\leftarrow n \\rightarrow$, where $n$ is in the conditioning set $S$\n",
    "1. $\\rightarrow n \\leftarrow$, where $n$ is **not** in the conditioning set $S$ (these are the **v-structures**).\n",
    "\n",
    "There is a supplemental rule:\n",
    "\n",
    "1. If $n$ has a descendant that is in $S$, and $n$ is **not** in $S$, then then $x_i$ and $x_j$ are **not** $d$-separated.\n",
    "\n",
    "(recall: don't follow the arrows, as we're not referring to directed paths)"
   ]
  },
  {
   "cell_type": "code",
   "execution_count": null,
   "metadata": {},
   "outputs": [],
   "source": [
    "draw_graph(G)"
   ]
  },
  {
   "cell_type": "markdown",
   "metadata": {},
   "source": [
    "## Example 1\n",
    "\n",
    "Anchoring ourself in the above example, let's ask if $x_2$ and $x_5$ are $d$-separated by the node set $S = \\{x_1, x_4\\}$. \n",
    "\n",
    "1. $x_1$ lies on the path from $x_2$ to $x_5$, and looks like Rule \\#1.\n",
    "1. $x_4$ lies on the path from $x_2$ to $x_5$ (the path is $x_2 \\rightarrow x_1 \\leftarrow x_3 \\leftarrow x_4 \\rightarrow x_5$), and looks like Rule \\#2.\n",
    "\n",
    "Therefore, by rules \\#1 and \\#2, $\\{x_2, x_5\\}$ are $d$-separated by $S = \\{x_1, x_4\\}$."
   ]
  },
  {
   "cell_type": "code",
   "execution_count": null,
   "metadata": {},
   "outputs": [],
   "source": [
    "draw_graph(G)"
   ]
  },
  {
   "cell_type": "markdown",
   "metadata": {},
   "source": [
    "## Example 2\n",
    "\n",
    "Let's ask if $x_1$ and $x_4$ are $d$-separated by the node set $S = \\{x_2, x_3\\}$.\n",
    "\n",
    "1. $x_2$ does not lie on a causal path from $x_1$ to $x_4$.\n",
    "1. $x_3$ lies on a causal path from $x_1$ to $x_4$ (the path is $x_1 \\leftarrow x_3 \\leftarrow x_4$), and looks like Rule \\#1.\n",
    "1. The other path from $x_1$ to $x_4$ is $x_1 \\rightarrow x_5 \\leftarrow x_4$, and $x_5$ is not in the node set $S$, therefore this looks like Rule \\#3.\n",
    "\n",
    "Therefore, by rules \\#1 and \\#3, $\\{x_1, x_4\\}$ are $d$-separated by $S = \\{x_2, x_3\\}$."
   ]
  },
  {
   "cell_type": "code",
   "execution_count": null,
   "metadata": {},
   "outputs": [],
   "source": [
    "draw_graph(G)"
   ]
  },
  {
   "cell_type": "markdown",
   "metadata": {},
   "source": [
    "## Example 3\n",
    "\n",
    "Finally, let's ask if $x_2$ and $x_4$ are $d$-separated by the node set $S = \\{\\}$.\n",
    "\n",
    "There are two sets of paths to go from $x_2$ to $x_4$:\n",
    "\n",
    "1. $x_2 \\rightarrow x_1 \\rightarrow x_5 \\leftarrow x_4$\n",
    "1. $x_2 \\rightarrow x_1 \\leftarrow x_3 \\leftarrow x_4$\n",
    "\n",
    "In both cases, $x_1$ is not in node set $S=\\{\\}$, and looks like Rule \\#3.\n",
    "\n",
    "Therefore, by rule \\#3, $x_2$ and $x_4$ are $d$-separated by $S = \\{\\}$."
   ]
  },
  {
   "cell_type": "markdown",
   "metadata": {},
   "source": [
    "# Algorithm\n",
    "\n",
    "From the above examples, I think I have a way of writing an algorithm that can automatically check for $d$-separation.\n",
    "\n",
    "Firstly, we have to define the three rules as functions."
   ]
  },
  {
   "cell_type": "code",
   "execution_count": null,
   "metadata": {},
   "outputs": [],
   "source": [
    "from causality_notes import rule1, rule2, rule3"
   ]
  },
  {
   "cell_type": "code",
   "execution_count": null,
   "metadata": {},
   "outputs": [],
   "source": [
    "# rule1??"
   ]
  },
  {
   "cell_type": "code",
   "execution_count": null,
   "metadata": {},
   "outputs": [],
   "source": [
    "# rule2??"
   ]
  },
  {
   "cell_type": "code",
   "execution_count": null,
   "metadata": {},
   "outputs": [],
   "source": [
    "# rule3??"
   ]
  },
  {
   "cell_type": "markdown",
   "metadata": {},
   "source": [
    "Then, we define the $d$-separation algorithm.\n",
    "\n",
    "_Read through the code and comments to learn what's going on!_"
   ]
  },
  {
   "cell_type": "code",
   "execution_count": null,
   "metadata": {},
   "outputs": [],
   "source": [
    "def d_separation(n1, n2, S, G: nx.DiGraph):\n",
    "    \"\"\"\n",
    "    Checks whether nodes n1 and n2 are d-separated by the set S.\n",
    "    \n",
    "    :param n1: A node in the graph G.\n",
    "    :param n2: A node in the graph G.\n",
    "    :param S: The conditioning set of interest.\n",
    "    :param G: A NetworkX directed graph.\n",
    "    :returns: (bool) dsep.\n",
    "    \"\"\"\n",
    "    # Defensive programming checks.\n",
    "    def error(n):\n",
    "        \"\"\"Custom error message for assertions below.\"\"\"\n",
    "        return f\"node {n} not in graph G\"\n",
    "    \n",
    "    assert n1 in G.nodes(), error(n1)\n",
    "    assert n2 in G.nodes(), error(n2)\n",
    "    for n in S:\n",
    "        assert n in G.nodes(), error(n)\n",
    "    \n",
    "    # First, we hold an undirected copy of the graph.\n",
    "    Gpath = G.to_undirected()\n",
    "    \n",
    "    # Next, we check whether there is a path from node n1 to n2.\n",
    "    assert nx.has_path(Gpath, n1, n2)\n",
    "    \n",
    "    # Next, we iterate over each path between n1 and n2, and check for the three rules.\n",
    "    #\n",
    "    # Any one of the three rules has to be fulfilled on a path for the path to be\n",
    "    # blocked by the set S.\n",
    "    #\n",
    "    # However, blocking must occur on all paths, otherwise, the two nodes n1 and n2 are\n",
    "    # not d-separated.\n",
    "    paths_blocked = []\n",
    "    for path in nx.all_simple_paths(G.to_undirected(), n1, n2):\n",
    "        is_blocked = False\n",
    "        for node in path:\n",
    "            if node is not n1 and node is not n2:\n",
    "                pass1 = rule1(node, S, G, path) \n",
    "                pass2 = rule2(node, S, G, path)\n",
    "                pass3 = rule3(node, S, G, path)\n",
    "                if (pass1 or pass2 or pass3):\n",
    "                    is_blocked = True\n",
    "        paths_blocked.append(is_blocked)\n",
    "    return all(paths_blocked)\n",
    "    "
   ]
  },
  {
   "cell_type": "markdown",
   "metadata": {},
   "source": [
    "Finally, let's run the test cases.\n",
    "\n",
    "From the examples above, $x_2$ and $x_5$ are $d$-separated by $\\{x_1, x_4\\}$:"
   ]
  },
  {
   "cell_type": "code",
   "execution_count": null,
   "metadata": {},
   "outputs": [],
   "source": [
    "d_separation('x2', 'x5', set(['x1', 'x4']), G)"
   ]
  },
  {
   "cell_type": "markdown",
   "metadata": {},
   "source": [
    "Also, $x_1$ and $x_4$ are $d$-separated by $\\{x_2, x_3\\}$:"
   ]
  },
  {
   "cell_type": "code",
   "execution_count": null,
   "metadata": {},
   "outputs": [],
   "source": [
    "d_separation('x1', 'x4', set(['x2', 'x3']), G)"
   ]
  },
  {
   "cell_type": "markdown",
   "metadata": {},
   "source": [
    "Finally, $x_2$ and $x_4$ are $d$-separated by $\\{\\}$ (an empty set of nodes):"
   ]
  },
  {
   "cell_type": "code",
   "execution_count": null,
   "metadata": {},
   "outputs": [],
   "source": [
    "d_separation('x2', 'x4', set([]), G)"
   ]
  },
  {
   "cell_type": "markdown",
   "metadata": {},
   "source": [
    "Woohoo! \n",
    "\n",
    "The hard part about doing this manually is that it's difficult to manually enumerate all simple paths between two nodes on a graph. Like, tracing it and keeping it in memory is difficult. But implementing the rules as an algorithm helps.\n",
    "\n",
    "A few more tests: Edges should not be $d$-separated."
   ]
  },
  {
   "cell_type": "code",
   "execution_count": null,
   "metadata": {},
   "outputs": [],
   "source": [
    "for n1, n2 in G.edges():\n",
    "    assert not d_separation(n1, n2, set([]), G)"
   ]
  },
  {
   "cell_type": "markdown",
   "metadata": {},
   "source": [
    "## Example 4\n",
    "\n",
    "Let's try a different causal graph, $G2$, which is part of [Example 3 in Pearl's $d$-separation without tears](http://bayes.cs.ucla.edu/BOOK-2K/d-sep.html)."
   ]
  },
  {
   "cell_type": "code",
   "execution_count": null,
   "metadata": {},
   "outputs": [],
   "source": [
    "import matplotlib.pyplot as plt\n",
    "\n",
    "G2 = nx.DiGraph()\n",
    "edges = ['xr', 'rw', 'rs', 'st', 'tp', 'ut', 'vu', 'vq', 'vy']\n",
    "edges = [(f'{i[0]}', f'{i[1]}') for i in edges]\n",
    "G2.add_edges_from(edges)\n",
    "\n",
    "fig = plt.figure()\n",
    "ax = fig.add_subplot(111)\n",
    "pos = {'x': (1, 0), 'r': (2, 0), 's': (3, 0), 't': (4, 0),\n",
    "       'u': (5, 0), 'v': (6, 0), 'y': (7, 0), 'w': (2, -1),\n",
    "       'p' : (4, -1), 'q': (6, -1)}\n",
    "# pos = nx.spring_layout(G2)\n",
    "nx.draw(G2, pos=pos, with_labels=True, ax=ax)\n",
    "ax.set_aspect('equal')\n",
    "ax.set_ylim(-2, 1)\n",
    "ax.set_xlim(-1, 8)\n",
    "plt.tight_layout()"
   ]
  },
  {
   "cell_type": "markdown",
   "metadata": {},
   "source": [
    "In Pearl's page, he sets up a hypothetical regression of $y$ on $p$, $r$ and $x$:\n",
    "\n",
    "$$y = c_1p + c_2r + c_3x$$\n",
    "\n",
    "*A priori*, it is possible to know which regression coefficient is going to be zero, if we know the causal graph and assume that the relationship is linear.\n",
    "\n",
    "To check whether $c_3$ will be zero, we ask whether $y$ and $x$ are $d$-separated by $\\{p, r\\}$:"
   ]
  },
  {
   "cell_type": "code",
   "execution_count": null,
   "metadata": {},
   "outputs": [],
   "source": [
    "d_separation('x', 'y', set(['r', 'p']), G2)"
   ]
  },
  {
   "cell_type": "markdown",
   "metadata": {},
   "source": [
    "To check whether $c_1$ will be zero, we ask whether $y$ and $p$ are $d$-separated by $\\{r, x\\}$:"
   ]
  },
  {
   "cell_type": "code",
   "execution_count": null,
   "metadata": {},
   "outputs": [],
   "source": [
    "d_separation('p', 'y', set(['x', 'r']), G2)"
   ]
  },
  {
   "cell_type": "markdown",
   "metadata": {},
   "source": [
    "To check whether $c_2$ will be zero, we ask whether $y$ and $r$ are $d$-separated by $\\{x, p\\}$:"
   ]
  },
  {
   "cell_type": "code",
   "execution_count": null,
   "metadata": {},
   "outputs": [],
   "source": [
    "d_separation('r', 'y', set(['x', 'p']), G2)"
   ]
  },
  {
   "cell_type": "markdown",
   "metadata": {},
   "source": [
    "$y$ and $r$ are not $d$-separated (i.e. they are $d$-connected), because $t$, which is a collider (and would originally have blocked the path), has a descendant $p$ that is part of the conditioning set."
   ]
  },
  {
   "cell_type": "markdown",
   "metadata": {},
   "source": [
    "So, why is this important? It allows us to state a thing called the \"Markov condition\":\n",
    "\n",
    "> The joint probability distribution $P$ between two variables $x_i$ and $x_j$ is Markov w.r.t. the graph $G$ if, for the conditioning set $S$:\n",
    ">\n",
    "> $x_i$ and $x_j$ are $d$-separated by $S$ in $G$.\n",
    ">\n",
    "> $\\implies$ (implies) $x_i$ is conditionally independent of $x_j$, conditioned on $S$."
   ]
  }
 ],
 "metadata": {
  "kernelspec": {
   "display_name": "Python 3",
   "language": "python",
   "name": "python3"
  },
  "language_info": {
   "codemirror_mode": {
    "name": "ipython",
    "version": 3
   },
   "file_extension": ".py",
   "mimetype": "text/x-python",
   "name": "python",
   "nbconvert_exporter": "python",
   "pygments_lexer": "ipython3",
   "version": "3.8.2-final"
  }
 },
 "nbformat": 4,
 "nbformat_minor": 2
}
