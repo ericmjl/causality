{
 "cells": [
  {
   "cell_type": "code",
   "execution_count": null,
   "metadata": {},
   "outputs": [],
   "source": [
    "import numpy as np\n",
    "import networkx as nx\n",
    "import matplotlib.pyplot as plt\n",
    "import pandas as pd\n",
    "from causality_notes import noise, draw_graph\n",
    "from statsmodels.regression.linear_model import OLS\n",
    "\n",
    "%load_ext autoreload\n",
    "%autoreload 2\n",
    "%matplotlib inline\n",
    "%config InlineBackend.figure_format = 'retina'"
   ]
  },
  {
   "cell_type": "markdown",
   "metadata": {},
   "source": [
    "# Introduction\n",
    "\n",
    "This notebook serves to introduce the use of instrument variables, which can be used in **linear** models to figure out the effect of `x` on `y` in the absence of the ability to measure the known confounder.\n",
    "\n",
    "Note: The method here was introduced to me via Jonas Peters' videos. I believe the assumption of linearity is a strong one: we must assume linear models, otherwise the math doesn't check out."
   ]
  },
  {
   "cell_type": "markdown",
   "metadata": {},
   "source": [
    "## Model\n",
    "\n",
    "Assume we have the following model, specified via linear equations in NumPy code:"
   ]
  },
  {
   "cell_type": "code",
   "execution_count": null,
   "metadata": {},
   "outputs": [],
   "source": [
    "# Set up model with hidden coefficients (pretend that we know them for \n",
    "# now) and instrument variable.\n",
    "size = 1000\n",
    "\n",
    "gamma = 2\n",
    "alpha = 3\n",
    "beta = 1\n",
    "delta = -1\n",
    "\n",
    "h = 2 * noise(size)  # the hidden, unmeasured variable.\n",
    "i = 4 * noise(size)  # the instrument variable\n",
    "x = delta * i + beta * h + 2 * noise(size)\n",
    "y = gamma * h + alpha * x + 3 * noise(size)"
   ]
  },
  {
   "cell_type": "markdown",
   "metadata": {},
   "source": [
    "Graphically, this looks like the following:"
   ]
  },
  {
   "cell_type": "code",
   "execution_count": null,
   "metadata": {},
   "outputs": [],
   "source": [
    "G = nx.DiGraph()\n",
    "G.add_edge('x', 'y', coeff=alpha)\n",
    "G.add_edge('h', 'y', coeff=gamma)\n",
    "G.add_edge('h', 'x', coeff=beta)\n",
    "G.add_edge('i', 'x', coeff=delta)\n",
    "\n",
    "draw_graph(G)"
   ]
  },
  {
   "cell_type": "markdown",
   "metadata": {},
   "source": [
    "If we were to regress $y$ directly on $x$, we would run into issues: Because we didn't measure the confounder variable $h$ (believe me for a moment that this is assumed to be true), our coefficients will be way off.\n",
    "\n",
    "To show this, first, let's create the `pandas` DataFrame that will be used with `statsmodels`."
   ]
  },
  {
   "cell_type": "code",
   "execution_count": null,
   "metadata": {},
   "outputs": [],
   "source": [
    "data = dict(x=x, i=i, h=h, y=y)\n",
    "df = pd.DataFrame(data)"
   ]
  },
  {
   "cell_type": "markdown",
   "metadata": {},
   "source": [
    "Now, we regress $y$ on $x$, and let's observe the output to see how good of a fit it is."
   ]
  },
  {
   "cell_type": "code",
   "execution_count": null,
   "metadata": {},
   "outputs": [],
   "source": [
    "model = OLS.from_formula('y ~ x', data=df)\n",
    "results = model.fit()\n",
    "results.params"
   ]
  },
  {
   "cell_type": "markdown",
   "metadata": {},
   "source": [
    "We're close, but not really there. (Remember, though, we wouldn't know this in a real-world scenario, where we might have postulated the presence of a hidden variable but didn't have the know-how to go out and measure it.)"
   ]
  },
  {
   "cell_type": "markdown",
   "metadata": {},
   "source": [
    "In the real-world scenario above, we might want to see if there's an **instrument variable** to help us out with this problem.\n",
    "\n",
    "The use of an instrumental variable works as such: We first regress the instrument variable $i$ on $x$, to obtain 'fitted' values of $\\delta i$. We then regress $y$ on $\\delta i$, which gives us the coefficient $alpha$.\n",
    "\n",
    "Don't believe me? Look at the math below:\n",
    "\n",
    "As a structured causal equation, the graphical model can be expressed as such:\n",
    "\n",
    "$$y = \\alpha x  + \\gamma h + n_{y}$$\n",
    "$$x = \\delta i + \\beta h + n_{x}$$\n",
    "\n",
    "where $n_{x}$ is the noise that generates uncertainty around $x$, and $n_{y}$ is the noise that generates uncertainty around $y$.\n",
    "\n",
    "Substuting $x$ into the $y$ (don't take my word for it, try it yourself!), we get:\n",
    "\n",
    "$$y = (\\alpha \\beta + \\gamma) h + (\\alpha) (\\delta i) + \\alpha n_{x} + n_{y}$$\n",
    "\n",
    "The parentheses have been rearranged intentionally for the variable $i$. If we regress $x$ on $i$, we will get an estimate for the value of $\\delta$. By then multiplying $\\delta$ by $i$, we will get \"fitted\" values of $i$. We can then regress $y$ on $\\delta i$ to get the value of $\\alpha$, which is exactly what we want!\n",
    "\n",
    "Enough in words, let's look at the code for this!"
   ]
  },
  {
   "cell_type": "markdown",
   "metadata": {},
   "source": [
    "## Mechanics \n",
    "\n",
    "First, we regress $x$ on $i$."
   ]
  },
  {
   "cell_type": "code",
   "execution_count": null,
   "metadata": {},
   "outputs": [],
   "source": [
    "model = OLS.from_formula('x ~ i', data=df)\n",
    "results = model.fit()\n",
    "results.params['i']"
   ]
  },
  {
   "cell_type": "markdown",
   "metadata": {},
   "source": [
    "Notice how we get an estimator that is kind of off. It isn't quite accurate, but my gut feeling tells me that's ok.\n",
    "\n",
    "To create the fitted $i$, we multiply the learned regression parameter by the original values."
   ]
  },
  {
   "cell_type": "code",
   "execution_count": null,
   "metadata": {},
   "outputs": [],
   "source": [
    "df['δi'] = df['i'] * results.params['i']"
   ]
  },
  {
   "cell_type": "markdown",
   "metadata": {},
   "source": [
    "Then, we regress $y$ on $\\delta i$:"
   ]
  },
  {
   "cell_type": "code",
   "execution_count": null,
   "metadata": {},
   "outputs": [],
   "source": [
    "model = OLS.from_formula('y ~ δi', data=df)\n",
    "results = model.fit()\n",
    "results.params"
   ]
  },
  {
   "cell_type": "markdown",
   "metadata": {},
   "source": [
    "Voila! We get back the effect of $x$ on $y$ by use of this instrument variable $i$! \n",
    "\n",
    "Really happy having seen that it works, and having seen some of the math that goes on behind it!\n",
    "\n",
    "## Assumptions\n",
    "\n",
    "Now, all of this sounds good and nice, but it does seem a bit \"magical\", to say the least. After all, \"linearity\" does seem like a very strong assumption. Moreover, in order to use an instrument variable, we have to justify that it has:\n",
    "\n",
    "1. a causal effect on $x$,\n",
    "2. no causal effect on $y$, and\n",
    "3. no causal effect on $h$\n",
    "\n",
    "Indeed, there is no free lunch here: we have to use background knowledge (or other means) to justify why $i$ is a suitable instrument variable; simply asserting this point is not sufficient."
   ]
  }
 ],
 "metadata": {
  "kernelspec": {
   "display_name": "Python 3",
   "language": "python",
   "name": "python3"
  },
  "language_info": {
   "codemirror_mode": {
    "name": "ipython",
    "version": 3
   },
   "file_extension": ".py",
   "mimetype": "text/x-python",
   "name": "python",
   "nbconvert_exporter": "python",
   "pygments_lexer": "ipython3",
   "version": "3.7.5"
  }
 },
 "nbformat": 4,
 "nbformat_minor": 2
}
