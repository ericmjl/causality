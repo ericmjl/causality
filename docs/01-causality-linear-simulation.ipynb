{
 "cells": [
  {
   "cell_type": "code",
   "execution_count": null,
   "metadata": {},
   "outputs": [],
   "source": [
    "import networkx as nx\n",
    "import matplotlib.pyplot as plt\n",
    "import numpy as np\n",
    "import numpy.random as npr\n",
    "import pandas as pd\n",
    "from causality_notes import draw_graph, noise\n",
    "\n",
    "%load_ext autoreload\n",
    "%autoreload 2\n",
    "%matplotlib inline\n",
    "%config InlineBackend.figure_format = 'retina'"
   ]
  },
  {
   "cell_type": "markdown",
   "metadata": {},
   "source": [
    "# Introduction\n",
    "\n",
    "In this notebook, I would like to simulate a complex causal process (with only linear relationships between the variables), but in a complex DAG that isn't just a triangle. Then, I would like to use this simulated data to convince myself that with the right conditioning on variables, we can recover the correct parameters back."
   ]
  },
  {
   "cell_type": "markdown",
   "metadata": {},
   "source": [
    "## Graphical Structure\n",
    "\n",
    "First off, let's assume that there is the following graphical structure."
   ]
  },
  {
   "cell_type": "code",
   "execution_count": null,
   "metadata": {},
   "outputs": [],
   "source": [
    "G = nx.DiGraph()\n",
    "G.add_edge('c', 'x', coeff=5)\n",
    "G.add_edge('a', 'x', coeff=2)\n",
    "G.add_edge('a', 'k', coeff=-3)\n",
    "G.add_edge('x', 'f', coeff=6)\n",
    "G.add_edge('x', 'd', coeff=-2)\n",
    "G.add_edge('d', 'g', coeff=-8)\n",
    "G.add_edge('k', 'y', coeff=3)\n",
    "G.add_edge('d', 'y', coeff=5)\n",
    "G.add_edge('y', 'h', coeff=-4)\n",
    "    \n",
    "draw_graph(G)"
   ]
  },
  {
   "cell_type": "markdown",
   "metadata": {},
   "source": [
    "Written as a set of equations, it might look like the following:"
   ]
  },
  {
   "cell_type": "code",
   "execution_count": null,
   "metadata": {},
   "outputs": [],
   "source": [
    "n = 1000  # number of samples taken\n",
    "\n",
    "c = noise(n)\n",
    "a = noise(n)\n",
    "x = 5 * c + 2 * a + noise(n)\n",
    "k = -3 * a + noise(n)\n",
    "f = 6 * x + noise(n)\n",
    "d = -2 * x + noise(n)\n",
    "g = -8 * d + noise(n)\n",
    "y = 3 * k + 5 * d + noise(n)\n",
    "h = -4 * y + noise(n)\n",
    "\n",
    "data = dict(c=c, a=a, x=x, k=k, f=f, d=d, g=g, y=y, h=h)\n",
    "df = pd.DataFrame(data)\n",
    "df.sample(5)"
   ]
  },
  {
   "cell_type": "markdown",
   "metadata": {},
   "source": [
    "Note how the coefficients on the edges are basically the linear multipliers.\n",
    "\n",
    "Before we go on, let's get a feel for how the data are distributed."
   ]
  },
  {
   "cell_type": "code",
   "execution_count": null,
   "metadata": {},
   "outputs": [],
   "source": [
    "import seaborn as sns\n",
    "sns.pairplot(df)"
   ]
  },
  {
   "cell_type": "markdown",
   "metadata": {},
   "source": [
    "Looking at the pair plot above, we should compute the pairwise correlation between each pair of variables."
   ]
  },
  {
   "cell_type": "code",
   "execution_count": null,
   "metadata": {},
   "outputs": [],
   "source": [
    "plt.imshow(df.corr(method='pearson').values, cmap='RdBu')\n",
    "plt.xticks(range(len(df.columns)), df.columns)\n",
    "plt.yticks(range(len(df.columns)), df.columns)\n",
    "plt.colorbar()"
   ]
  },
  {
   "cell_type": "markdown",
   "metadata": {},
   "source": [
    "Compare the graphical structure below against the correlation plots above. Some things are quite neat.\n",
    "\n",
    "- $c$ and $k$ are uncorrelated, because there is no causal path from $c$ to $k$. Same goes for $c$ and $a$.\n",
    "- On the other hand, $c$ is causally related to all of the other variables. It has a negative correlation with $d$ and $y$, and this comes directly from Sewall Wright's path rules: positive coeff $\\times$ negative coeff gives a negative coeff."
   ]
  },
  {
   "cell_type": "code",
   "execution_count": null,
   "metadata": {},
   "outputs": [],
   "source": [
    "draw_graph(G)"
   ]
  },
  {
   "cell_type": "markdown",
   "metadata": {},
   "source": [
    "From the graph, we know that the direct effect of $x$ on $y$ is going to be $-2 \\times 5 = -10$ (Sewall Wright's path analysis). However, if we only regress $y$ on $x$, the coefficients are going to be wrong, because we have a confounder between $x$ and $y$, primarily originating from $a$. \n",
    "\n",
    "Now, let's try naïvely regressing $y$ on $x$, given the causal structure above."
   ]
  },
  {
   "cell_type": "code",
   "execution_count": null,
   "metadata": {},
   "outputs": [],
   "source": [
    "from statsmodels.regression.linear_model import OLS\n",
    "\n",
    "model = OLS.from_formula('y ~ x', data=df)\n",
    "results = model.fit()\n",
    "results.params"
   ]
  },
  {
   "cell_type": "markdown",
   "metadata": {},
   "source": [
    "We almost recover the correct coefficients, but because we didn't condition on the confounding path from $x$ to $y$, that is, the path `x <- a -> k -> y`. Thus, we're still off. \n",
    "\n",
    "What if we conditioned on $a$? To condition on $a$ means adding it as a term in the linear regression."
   ]
  },
  {
   "cell_type": "code",
   "execution_count": null,
   "metadata": {},
   "outputs": [],
   "source": [
    "model = OLS.from_formula('y ~ x + a', data=df)\n",
    "results = model.fit()\n",
    "results.params"
   ]
  },
  {
   "cell_type": "markdown",
   "metadata": {},
   "source": [
    "Much better! What if we conditioned on $k$ only?"
   ]
  },
  {
   "cell_type": "code",
   "execution_count": null,
   "metadata": {},
   "outputs": [],
   "source": [
    "model = OLS.from_formula('y ~ x + k', data=df)\n",
    "results = model.fit()\n",
    "results.params"
   ]
  },
  {
   "cell_type": "markdown",
   "metadata": {},
   "source": [
    "Wonderful! We get coefficients that are much closer to -10, which is exactly what we had expected. Notice how we also recovered the effect of $a$ and $k$ respectively on $y$.\n",
    "\n",
    "One thing that is quite nice about this scheme is that if we know the causality structure ahead of time, then we need not condition on every last variable. We needn't even condition on every single variable on the confounding path; conditioning on a single variable in each confounding path is sufficient. \n",
    "\n",
    "This property comes in handy in scenarios where we don't have perfect information: if we weren't able to measure $a$, or just forgot to measure it, $k$ is a sufficiently good variable to condition on.\n",
    "\n",
    "What would happen if we conditioned on a variable that wasn't involved in the causal path from $x$ to $y$? Let's try conditioning on $g$."
   ]
  },
  {
   "cell_type": "code",
   "execution_count": null,
   "metadata": {},
   "outputs": [],
   "source": [
    "model = OLS.from_formula('y ~ x + g', data=df)\n",
    "results = model.fit()\n",
    "results.params"
   ]
  },
  {
   "cell_type": "markdown",
   "metadata": {},
   "source": [
    "We are way off! This is because $g$ is not a confounder of $x$ and $y$, therefore, conditioning on it is the wrong thing to do."
   ]
  }
 ],
 "metadata": {
  "kernelspec": {
   "display_name": "Python 3",
   "language": "python",
   "name": "python3"
  },
  "language_info": {
   "codemirror_mode": {
    "name": "ipython",
    "version": 3
   },
   "file_extension": ".py",
   "mimetype": "text/x-python",
   "name": "python",
   "nbconvert_exporter": "python",
   "pygments_lexer": "ipython3",
   "version": "3.7.5"
  }
 },
 "nbformat": 4,
 "nbformat_minor": 2
}
